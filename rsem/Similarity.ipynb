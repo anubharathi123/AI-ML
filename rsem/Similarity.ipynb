{
 "cells": [
  {
   "cell_type": "code",
   "execution_count": 1,
   "id": "add684f6",
   "metadata": {},
   "outputs": [],
   "source": [
    "#!pip install pdfplumber"
   ]
  },
  {
   "cell_type": "code",
   "execution_count": 1,
   "id": "ae603f72",
   "metadata": {},
   "outputs": [],
   "source": [
    "import pdfplumber\n",
    "import re\n",
    "from sklearn.feature_extraction.text import TfidfVectorizer\n",
    "from sklearn.metrics.pairwise import cosine_similarity\n",
    "import nltk\n",
    "from nltk.corpus import stopwords\n",
    "from nltk.tokenize import word_tokenize\n",
    "from nltk.stem import WordNetLemmatizer"
   ]
  },
  {
   "cell_type": "code",
   "execution_count": 2,
   "id": "bc554f61",
   "metadata": {},
   "outputs": [
    {
     "name": "stderr",
     "output_type": "stream",
     "text": [
      "[nltk_data] Downloading package punkt to\n",
      "[nltk_data]     C:\\Users\\santhoshs.s\\AppData\\Roaming\\nltk_data...\n",
      "[nltk_data]   Package punkt is already up-to-date!\n",
      "[nltk_data] Downloading package stopwords to\n",
      "[nltk_data]     C:\\Users\\santhoshs.s\\AppData\\Roaming\\nltk_data...\n",
      "[nltk_data]   Package stopwords is already up-to-date!\n",
      "[nltk_data] Downloading package wordnet to\n",
      "[nltk_data]     C:\\Users\\santhoshs.s\\AppData\\Roaming\\nltk_data...\n",
      "[nltk_data]   Package wordnet is already up-to-date!\n"
     ]
    },
    {
     "data": {
      "text/plain": [
       "True"
      ]
     },
     "execution_count": 2,
     "metadata": {},
     "output_type": "execute_result"
    }
   ],
   "source": [
    "nltk.download('punkt')\n",
    "nltk.download('stopwords')\n",
    "nltk.download('wordnet')"
   ]
  },
  {
   "cell_type": "markdown",
   "id": "e54c294f",
   "metadata": {},
   "source": [
    "### Step 1: Extract text from PDF"
   ]
  },
  {
   "cell_type": "code",
   "execution_count": 3,
   "id": "e835c27a",
   "metadata": {},
   "outputs": [],
   "source": [
    "def extract_text_from_pdf(pdf_path):\n",
    "    with pdfplumber.open(pdf_path) as pdf:\n",
    "        text = \"\"\n",
    "        for page in pdf.pages:\n",
    "            text += page.extract_text()\n",
    "    return text"
   ]
  },
  {
   "cell_type": "markdown",
   "id": "3d3dbd10",
   "metadata": {},
   "source": [
    "### Step 2: Extract \"Objective\" section from the resume"
   ]
  },
  {
   "cell_type": "code",
   "execution_count": 4,
   "id": "439e6648",
   "metadata": {},
   "outputs": [],
   "source": [
    "def extract_objective(text):\n",
    "    objective_regex = re.compile(r\"(objective|career objective)\", re.IGNORECASE | re.DOTALL)\n",
    "    match = objective_regex.search(text)\n",
    "    if match:\n",
    "        return match.group(2).strip()  # Return the objective part of the match\n",
    "    else:\n",
    "        return \"Objective not found\""
   ]
  },
  {
   "cell_type": "code",
   "execution_count": 5,
   "id": "8463d542",
   "metadata": {},
   "outputs": [],
   "source": [
    "def preprocess_text(text):\n",
    "    # Tokenize text\n",
    "    tokens = word_tokenize(text.lower())\n",
    "    \n",
    "    # Remove stopwords\n",
    "    stop_words = set(stopwords.words('english'))\n",
    "    tokens = [word for word in tokens if word.isalpha() and word not in stop_words]\n",
    "    \n",
    "    # Lemmatization\n",
    "    lemmatizer = WordNetLemmatizer()\n",
    "    tokens = [lemmatizer.lemmatize(word) for word in tokens]\n",
    "    \n",
    "    return ' '.join(tokens)"
   ]
  },
  {
   "cell_type": "code",
   "execution_count": 6,
   "id": "e4d7987d",
   "metadata": {},
   "outputs": [
    {
     "name": "stdin",
     "output_type": "stream",
     "text": [
      "Enter the resume[pdf] path:  C:\\Users\\santhoshs.s\\jupyter\\resumes\\data\\data\\ACCOUNTANT\\10554236.pdf\n"
     ]
    }
   ],
   "source": [
    "resume_pdf_path = input(\"Enter the resume[pdf] path: \")"
   ]
  },
  {
   "cell_type": "code",
   "execution_count": 7,
   "id": "d6cf6287",
   "metadata": {},
   "outputs": [
    {
     "name": "stdout",
     "output_type": "stream",
     "text": [
      "Using whole resume for analysis.\n"
     ]
    }
   ],
   "source": [
    "resume_text = extract_text_from_pdf(resume_pdf_path)\n",
    "objective_text = extract_objective(resume_text)\n",
    "\n",
    "# If objective is found, process it\n",
    "if objective_text != \"Objective not found\":\n",
    "    preprocessed_resume = preprocess_text(objective_text)\n",
    "    print(\"Extracted Objective:\", objective_text)\n",
    "else:\n",
    "    preprocessed_resume = preprocess_text(resume_text)  # Fallback to whole resume if no objective\n",
    "    print(\"Using whole resume for analysis.\")"
   ]
  },
  {
   "cell_type": "code",
   "execution_count": 8,
   "id": "514ebbcf",
   "metadata": {},
   "outputs": [
    {
     "name": "stdin",
     "output_type": "stream",
     "text": [
      "Enter the job description : Responsible for analyzing the Time sheet and generate invoices  Responsible for getting approval for generated invoices  Responsible for Sending the invoices to the client and Vendors  Responsible for follow-up with client and vendors for payment and update the same in our DB.  Must possess Good Communication and Willing to work in Night Shift.\n"
     ]
    }
   ],
   "source": [
    "job_description = input(\"Enter the job description :\")"
   ]
  },
  {
   "cell_type": "code",
   "execution_count": 9,
   "id": "4a86651d",
   "metadata": {},
   "outputs": [],
   "source": [
    "preprocessed_job_description = preprocess_text(job_description)"
   ]
  },
  {
   "cell_type": "markdown",
   "id": "6b391307",
   "metadata": {},
   "source": [
    "### Step 3: TF-IDF Vectorization"
   ]
  },
  {
   "cell_type": "code",
   "execution_count": 10,
   "id": "e52b053d",
   "metadata": {},
   "outputs": [],
   "source": [
    "vectorizer = TfidfVectorizer()\n",
    "\n",
    "documents = [preprocessed_job_description, preprocessed_resume]\n",
    "tfidf_matrix = vectorizer.fit_transform(documents)"
   ]
  },
  {
   "cell_type": "markdown",
   "id": "ca980e92",
   "metadata": {},
   "source": [
    "### Step 4: Calculate Cosine Similarity"
   ]
  },
  {
   "cell_type": "code",
   "execution_count": 12,
   "id": "6264f888",
   "metadata": {},
   "outputs": [
    {
     "name": "stdout",
     "output_type": "stream",
     "text": [
      "Resume is 10.81% similar to the job description.\n"
     ]
    }
   ],
   "source": [
    "cosine_sim = cosine_similarity(tfidf_matrix[0:1], tfidf_matrix[1:2])\n",
    "\n",
    "# Output the similarity score\n",
    "similarity_percentage = cosine_sim[0][0] * 100\n",
    "print(f\"Resume is {similarity_percentage:.2f}% similar to the job description.\")"
   ]
  },
  {
   "cell_type": "code",
   "execution_count": null,
   "id": "e5e077e5",
   "metadata": {},
   "outputs": [],
   "source": [
    "    "
   ]
  },
  {
   "cell_type": "code",
   "execution_count": null,
   "id": "067b76c3-f4ae-4c32-9640-e1c861d54be9",
   "metadata": {},
   "outputs": [],
   "source": []
  }
 ],
 "metadata": {
  "kernelspec": {
   "display_name": "Python 3 (ipykernel)",
   "language": "python",
   "name": "python3"
  },
  "language_info": {
   "codemirror_mode": {
    "name": "ipython",
    "version": 3
   },
   "file_extension": ".py",
   "mimetype": "text/x-python",
   "name": "python",
   "nbconvert_exporter": "python",
   "pygments_lexer": "ipython3",
   "version": "3.12.6"
  }
 },
 "nbformat": 4,
 "nbformat_minor": 5
}
