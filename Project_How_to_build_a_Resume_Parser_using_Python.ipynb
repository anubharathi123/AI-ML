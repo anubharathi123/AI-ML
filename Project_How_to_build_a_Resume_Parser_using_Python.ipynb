{
 "cells": [
  {
   "cell_type": "code",
   "execution_count": 2,
   "metadata": {
    "colab": {
     "base_uri": "https://localhost:8080/"
    },
    "id": "K-RAKrZCB8OU",
    "outputId": "a7140349-383b-4d15-cf08-6daab2e11b03"
   },
   "outputs": [
    {
     "name": "stdout",
     "output_type": "stream",
     "text": [
      "Collecting spacy==2.3.5"
     ]
    },
    {
     "name": "stderr",
     "output_type": "stream",
     "text": [
      "  error: subprocess-exited-with-error\n",
      "  \n",
      "  pip subprocess to install build dependencies did not run successfully.\n",
      "  exit code: 1\n",
      "  \n",
      "  [51 lines of output]\n",
      "  Collecting setuptools\n",
      "    Using cached setuptools-75.1.0-py3-none-any.whl.metadata (6.9 kB)\n",
      "  Collecting cython>=0.25\n",
      "    Using cached Cython-3.0.11-cp312-cp312-win_amd64.whl.metadata (3.2 kB)\n",
      "  Collecting cymem<2.1.0,>=2.0.2\n",
      "    Using cached cymem-2.0.8-cp312-cp312-win_amd64.whl.metadata (8.6 kB)\n",
      "  Collecting preshed<3.1.0,>=3.0.2\n",
      "    Using cached preshed-3.0.9-cp312-cp312-win_amd64.whl.metadata (2.2 kB)\n",
      "  Collecting murmurhash<1.1.0,>=0.28.0\n",
      "    Using cached murmurhash-1.0.10-cp312-cp312-win_amd64.whl.metadata (2.0 kB)\n",
      "  Collecting thinc<7.5.0,>=7.4.1\n",
      "    Using cached thinc-7.4.6.tar.gz (1.3 MB)\n",
      "    Installing build dependencies: started\n",
      "    Installing build dependencies: finished with status 'done'\n",
      "    Getting requirements to build wheel: started\n",
      "    Getting requirements to build wheel: finished with status 'error'\n",
      "    error: subprocess-exited-with-error\n",
      "  \n",
      "    Getting requirements to build wheel did not run successfully.\n",
      "    exit code: 1\n",
      "  \n",
      "    [18 lines of output]\n",
      "    Traceback (most recent call last):\n",
      "      File \"C:\\Users\\santhoshs.s\\AppData\\Local\\Programs\\Python\\Python312\\Lib\\site-packages\\pip\\_vendor\\pyproject_hooks\\_in_process\\_in_process.py\", line 353, in <module>\n",
      "        main()\n",
      "      File \"C:\\Users\\santhoshs.s\\AppData\\Local\\Programs\\Python\\Python312\\Lib\\site-packages\\pip\\_vendor\\pyproject_hooks\\_in_process\\_in_process.py\", line 335, in main\n",
      "        json_out['return_val'] = hook(**hook_input['kwargs'])\n",
      "                                 ^^^^^^^^^^^^^^^^^^^^^^^^^^^^\n",
      "      File \"C:\\Users\\santhoshs.s\\AppData\\Local\\Programs\\Python\\Python312\\Lib\\site-packages\\pip\\_vendor\\pyproject_hooks\\_in_process\\_in_process.py\", line 118, in get_requires_for_build_wheel\n",
      "        return hook(config_settings)\n",
      "               ^^^^^^^^^^^^^^^^^^^^^\n",
      "      File \"C:\\Users\\santhoshs.s\\AppData\\Local\\Temp\\pip-build-env-oxjx3aei\\overlay\\Lib\\site-packages\\setuptools\\build_meta.py\", line 332, in get_requires_for_build_wheel\n",
      "        return self._get_build_requires(config_settings, requirements=[])\n",
      "               ^^^^^^^^^^^^^^^^^^^^^^^^^^^^^^^^^^^^^^^^^^^^^^^^^^^^^^^^^^\n",
      "      File \"C:\\Users\\santhoshs.s\\AppData\\Local\\Temp\\pip-build-env-oxjx3aei\\overlay\\Lib\\site-packages\\setuptools\\build_meta.py\", line 302, in _get_build_requires\n",
      "        self.run_setup()\n",
      "      File \"C:\\Users\\santhoshs.s\\AppData\\Local\\Temp\\pip-build-env-oxjx3aei\\overlay\\Lib\\site-packages\\setuptools\\build_meta.py\", line 318, in run_setup\n",
      "        exec(code, locals())\n",
      "      File \"<string>\", line 12, in <module>\n",
      "    ImportError: cannot import name 'msvccompiler' from 'distutils' (C:\\Users\\santhoshs.s\\AppData\\Local\\Temp\\pip-build-env-oxjx3aei\\overlay\\Lib\\site-packages\\setuptools\\_distutils\\__init__.py). Did you mean: 'ccompiler'?\n",
      "    [end of output]\n",
      "  \n",
      "    note: This error originates from a subprocess, and is likely not a problem with pip.\n",
      "  error: subprocess-exited-with-error\n",
      "  \n",
      "  Getting requirements to build wheel did not run successfully.\n",
      "  exit code: 1\n",
      "  \n",
      "  See above for output.\n",
      "  \n",
      "  note: This error originates from a subprocess, and is likely not a problem with pip.\n",
      "  [end of output]\n",
      "  \n",
      "  note: This error originates from a subprocess, and is likely not a problem with pip.\n",
      "error: subprocess-exited-with-error\n",
      "\n",
      "pip subprocess to install build dependencies did not run successfully.\n",
      "exit code: 1\n",
      "\n",
      "See above for output.\n",
      "\n",
      "note: This error originates from a subprocess, and is likely not a problem with pip.\n"
     ]
    },
    {
     "name": "stdout",
     "output_type": "stream",
     "text": [
      "\n",
      "  Using cached spacy-2.3.5.tar.gz (5.8 MB)\n",
      "  Installing build dependencies: started\n",
      "  Installing build dependencies: still running...\n",
      "  Installing build dependencies: finished with status 'error'\n"
     ]
    }
   ],
   "source": [
    "!pip install spacy==2.3.5"
   ]
  },
  {
   "cell_type": "code",
   "execution_count": 1,
   "metadata": {
    "colab": {
     "base_uri": "https://localhost:8080/"
    },
    "id": "RYpk1pJHCDeY",
    "outputId": "51e8fa22-58db-4bb9-f16a-70188a898fe8"
   },
   "outputs": [
    {
     "name": "stdout",
     "output_type": "stream",
     "text": [
      "^C\n",
      "Collecting https://github.com/explosion/spacy-models/releases/download/en_core_web_sm-2.3.1/en_core_web_sm-2.3.1.tar.gz\n",
      "  Downloading https://github.com/explosion/spacy-models/releases/download/en_core_web_sm-2.3.1/en_core_web_sm-2.3.1.tar.gz (12.0 MB)\n",
      "     ---------------------------------------- 0.0/12.0 MB ? eta -:--:--\n",
      "     - -------------------------------------- 0.5/12.0 MB 3.4 MB/s eta 0:00:04\n",
      "     ---- ----------------------------------- 1.3/12.0 MB 3.2 MB/s eta 0:00:04\n",
      "     ------ --------------------------------- 1.8/12.0 MB 3.5 MB/s eta 0:00:03\n",
      "     --------- ------------------------------ 2.9/12.0 MB 3.7 MB/s eta 0:00:03\n",
      "     --------------- ------------------------ 4.7/12.0 MB 4.6 MB/s eta 0:00:02\n",
      "     ---------------------- ----------------- 6.8/12.0 MB 5.5 MB/s eta 0:00:01\n",
      "     ------------------------------ --------- 9.2/12.0 MB 6.4 MB/s eta 0:00:01\n",
      "     ---------------------------------- ----- 10.5/12.0 MB 6.9 MB/s eta 0:00:01\n",
      "     ---------------------------------------- 12.0/12.0 MB 6.4 MB/s eta 0:00:00\n",
      "  Installing build dependencies: started\n",
      "  Installing build dependencies: finished with status 'done'\n",
      "  Getting requirements to build wheel: started\n",
      "  Getting requirements to build wheel: finished with status 'done'\n",
      "  Preparing metadata (pyproject.toml): started\n",
      "  Preparing metadata (pyproject.toml): finished with status 'done'\n",
      "Collecting spacy<2.4.0,>=2.3.0 (from en_core_web_sm==2.3.1)\n",
      "  Downloading spacy-2.3.9.tar.gz (1.0 MB)\n",
      "     ---------------------------------------- 0.0/1.0 MB ? eta -:--:--\n",
      "     ---------- ----------------------------- 0.3/1.0 MB ? eta -:--:--\n",
      "     ------------------------------ --------- 0.8/1.0 MB 3.4 MB/s eta 0:00:01\n",
      "     ---------------------------------------- 1.0/1.0 MB 3.5 MB/s eta 0:00:00\n",
      "  Installing build dependencies: started\n"
     ]
    }
   ],
   "source": [
    "!pip install https://github.com/explosion/spacy-models/releases/download/en_core_web_sm-2.3.1/en_core_web_sm-2.3.1.tar.gz"
   ]
  },
  {
   "cell_type": "code",
   "execution_count": null,
   "metadata": {
    "colab": {
     "base_uri": "https://localhost:8080/"
    },
    "id": "8JyheGmvCITh",
    "outputId": "d8844851-097e-43e4-8596-edd3e34667a1"
   },
   "outputs": [],
   "source": [
    "!pip install pyresparser"
   ]
  },
  {
   "cell_type": "code",
   "execution_count": 2,
   "metadata": {
    "colab": {
     "base_uri": "https://localhost:8080/"
    },
    "id": "37F2VGQzDkJj",
    "outputId": "e0fbe8db-98c2-4866-9fd2-c1c665798c5c"
   },
   "outputs": [
    {
     "name": "stdout",
     "output_type": "stream",
     "text": [
      "Requirement already satisfied: nltk in c:\\users\\santhoshs.s\\appdata\\local\\programs\\python\\python312\\lib\\site-packages (3.9.1)\n",
      "Requirement already satisfied: click in c:\\users\\santhoshs.s\\appdata\\local\\programs\\python\\python312\\lib\\site-packages (from nltk) (8.1.7)\n",
      "Requirement already satisfied: joblib in c:\\users\\santhoshs.s\\appdata\\local\\programs\\python\\python312\\lib\\site-packages (from nltk) (1.4.2)\n",
      "Requirement already satisfied: regex>=2021.8.3 in c:\\users\\santhoshs.s\\appdata\\local\\programs\\python\\python312\\lib\\site-packages (from nltk) (2024.9.11)\n",
      "Requirement already satisfied: tqdm in c:\\users\\santhoshs.s\\appdata\\local\\programs\\python\\python312\\lib\\site-packages (from nltk) (4.66.5)\n",
      "Requirement already satisfied: colorama in c:\\users\\santhoshs.s\\appdata\\local\\programs\\python\\python312\\lib\\site-packages (from click->nltk) (0.4.6)\n"
     ]
    },
    {
     "name": "stderr",
     "output_type": "stream",
     "text": [
      "[nltk_data] Downloading package stopwords to\n",
      "[nltk_data]     C:\\Users\\santhoshs.s\\AppData\\Roaming\\nltk_data...\n",
      "[nltk_data]   Package stopwords is already up-to-date!\n"
     ]
    },
    {
     "ename": "ModuleNotFoundError",
     "evalue": "No module named 'pyresparser'",
     "output_type": "error",
     "traceback": [
      "\u001b[1;31m---------------------------------------------------------------------------\u001b[0m",
      "\u001b[1;31mModuleNotFoundError\u001b[0m                       Traceback (most recent call last)",
      "Cell \u001b[1;32mIn[2], line 5\u001b[0m\n\u001b[0;32m      2\u001b[0m \u001b[38;5;28;01mimport\u001b[39;00m \u001b[38;5;21;01mnltk\u001b[39;00m\n\u001b[0;32m      3\u001b[0m nltk\u001b[38;5;241m.\u001b[39mdownload(\u001b[38;5;124m'\u001b[39m\u001b[38;5;124mstopwords\u001b[39m\u001b[38;5;124m'\u001b[39m)\n\u001b[1;32m----> 5\u001b[0m \u001b[38;5;28;01mfrom\u001b[39;00m \u001b[38;5;21;01mpyresparser\u001b[39;00m \u001b[38;5;28;01mimport\u001b[39;00m ResumeParser\n\u001b[0;32m      6\u001b[0m \u001b[38;5;28;01mimport\u001b[39;00m \u001b[38;5;21;01mwarnings\u001b[39;00m\n",
      "\u001b[1;31mModuleNotFoundError\u001b[0m: No module named 'pyresparser'"
     ]
    }
   ],
   "source": [
    "!pip install nltk\n",
    "import nltk\n",
    "nltk.download('stopwords')\n",
    "\n",
    "from pyresparser import ResumeParser\n",
    "import warnings"
   ]
  },
  {
   "cell_type": "code",
   "execution_count": 1,
   "metadata": {
    "id": "nBcvSR8nCLId"
   },
   "outputs": [
    {
     "ename": "NameError",
     "evalue": "name 'warnings' is not defined",
     "output_type": "error",
     "traceback": [
      "\u001b[1;31m---------------------------------------------------------------------------\u001b[0m",
      "\u001b[1;31mNameError\u001b[0m                                 Traceback (most recent call last)",
      "Cell \u001b[1;32mIn[1], line 1\u001b[0m\n\u001b[1;32m----> 1\u001b[0m \u001b[43mwarnings\u001b[49m\u001b[38;5;241m.\u001b[39mfilterwarnings(\u001b[38;5;124m\"\u001b[39m\u001b[38;5;124mignore\u001b[39m\u001b[38;5;124m\"\u001b[39m, category\u001b[38;5;241m=\u001b[39m\u001b[38;5;167;01mUserWarning\u001b[39;00m)\n",
      "\u001b[1;31mNameError\u001b[0m: name 'warnings' is not defined"
     ]
    }
   ],
   "source": [
    "warnings.filterwarnings(\"ignore\", category=UserWarning)"
   ]
  },
  {
   "cell_type": "code",
   "execution_count": 1,
   "metadata": {
    "id": "XkRfYihiCNA9"
   },
   "outputs": [
    {
     "ename": "NameError",
     "evalue": "name 'ResumeParser' is not defined",
     "output_type": "error",
     "traceback": [
      "\u001b[1;31m---------------------------------------------------------------------------\u001b[0m",
      "\u001b[1;31mNameError\u001b[0m                                 Traceback (most recent call last)",
      "Cell \u001b[1;32mIn[1], line 1\u001b[0m\n\u001b[1;32m----> 1\u001b[0m data \u001b[38;5;241m=\u001b[39m \u001b[43mResumeParser\u001b[49m(\u001b[38;5;124m\"\u001b[39m\u001b[38;5;124mC://Users//santhoshs.s//jupyter//resumes//data//data//ACCOUNTANT//10554236.pdf\u001b[39m\u001b[38;5;124m\"\u001b[39m)\u001b[38;5;241m.\u001b[39mget_extracted_data()\n",
      "\u001b[1;31mNameError\u001b[0m: name 'ResumeParser' is not defined"
     ]
    }
   ],
   "source": [
    "data = ResumeParser(\"C://Users//santhoshs.s//jupyter//resumes//data//data//ACCOUNTANT//10554236.pdf\").get_extracted_data()"
   ]
  },
  {
   "cell_type": "code",
   "execution_count": null,
   "metadata": {
    "colab": {
     "base_uri": "https://localhost:8080/"
    },
    "id": "N4HAlYk9COi4",
    "outputId": "fa6dde4d-c43b-42c0-d79a-684c267e4e47"
   },
   "outputs": [
    {
     "name": "stdout",
     "output_type": "stream",
     "text": [
      "Name: RICHARD SANCHEZ\n",
      "Email: hello@reallygreatsite.com\n",
      "Mobile Number: 123-456-7890\n",
      "Skills: ['Business management', 'Spanish', 'English', 'Communication', 'Marketing', 'R', 'Budget', 'C', 'German', 'Vendors', 'Brand', 'Email', 'French', 'P', 'Research']\n",
      "College Name: None\n",
      "Degree: ['Bachelor of Business', 'Master of Business']\n",
      "Designation: ['Estelle Darcy', 'MARKETING MANAGER', 'Marketing Manager & Specialist']\n",
      "Company Names: ['Public Relations', 'Harper Richard', 'Borcelle Studio', 'E X P E R I E N C E', 'C O N T A C T']\n",
      "No Of Pages: 1\n",
      "Total Experience: 0\n"
     ]
    }
   ],
   "source": [
    "print(\"Name:\", data[\"name\"])\n",
    "print(\"Email:\", data[\"email\"])\n",
    "print(\"Mobile Number:\", data[\"mobile_number\"])\n",
    "print(\"Skills:\", data[\"skills\"])\n",
    "print(\"College Name:\", data[\"college_name\"])\n",
    "print(\"Degree:\", data[\"degree\"])\n",
    "print(\"Designation:\", data[\"designation\"])\n",
    "print(\"Company Names:\", data[\"company_names\"])\n",
    "print(\"No Of Pages:\", data[\"no_of_pages\"])\n",
    "print(\"Total Experience:\", data[\"total_experience\"])"
   ]
  },
  {
   "cell_type": "code",
   "execution_count": null,
   "metadata": {
    "colab": {
     "base_uri": "https://localhost:8080/"
    },
    "id": "cX64_8dXCQib",
    "outputId": "be674582-ad7d-44b9-9cb0-9e5b6d5b869c"
   },
   "outputs": [
    {
     "name": "stdout",
     "output_type": "stream",
     "text": [
      "Name: RICHARD SANCHEZ\n",
      "Email: hello@reallygreatsite.com\n",
      "Mobile Number: 123-456-7890\n",
      "Skills: ['Business management', 'Spanish', 'English', 'Communication', 'Marketing', 'R', 'Budget', 'C', 'German', 'Vendors', 'Brand', 'Email', 'French', 'P', 'Research']\n",
      "College Name: None\n",
      "Degree: ['Bachelor of Business', 'Master of Business']\n",
      "Designation: ['Estelle Darcy', 'MARKETING MANAGER', 'Marketing Manager & Specialist']\n",
      "Company Names: ['Public Relations', 'Harper Richard', 'Borcelle Studio', 'E X P E R I E N C E', 'C O N T A C T']\n",
      "No Of Pages: 1\n",
      "Total Experience: 0\n"
     ]
    }
   ],
   "source": [
    "from pyresparser import ResumeParser\n",
    "import warnings\n",
    "\n",
    "warnings.filterwarnings(\"ignore\", category=UserWarning)\n",
    "\n",
    "data = ResumeParser(\"resume.pdf\").get_extracted_data()\n",
    "\n",
    "print(\"Name:\", data[\"name\"])\n",
    "print(\"Email:\", data[\"email\"])\n",
    "print(\"Mobile Number:\", data[\"mobile_number\"])\n",
    "print(\"Skills:\", data[\"skills\"])\n",
    "print(\"College Name:\", data[\"college_name\"])\n",
    "print(\"Degree:\", data[\"degree\"])\n",
    "print(\"Designation:\", data[\"designation\"])\n",
    "print(\"Company Names:\", data[\"company_names\"])\n",
    "print(\"No Of Pages:\", data[\"no_of_pages\"])\n",
    "print(\"Total Experience:\", data[\"total_experience\"])"
   ]
  }
 ],
 "metadata": {
  "colab": {
   "provenance": []
  },
  "kernelspec": {
   "display_name": "Python 3 (ipykernel)",
   "language": "python",
   "name": "python3"
  },
  "language_info": {
   "codemirror_mode": {
    "name": "ipython",
    "version": 3
   },
   "file_extension": ".py",
   "mimetype": "text/x-python",
   "name": "python",
   "nbconvert_exporter": "python",
   "pygments_lexer": "ipython3",
   "version": "3.12.6"
  }
 },
 "nbformat": 4,
 "nbformat_minor": 4
}
