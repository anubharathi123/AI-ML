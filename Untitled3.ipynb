{
 "cells": [
  {
   "cell_type": "code",
   "execution_count": 21,
   "id": "696259d9-8655-4bb3-a484-88f4d4eaebe1",
   "metadata": {},
   "outputs": [],
   "source": [
    "import PyPDF2\n",
    "\n",
    "def extract_text_from_pdf(pdf_path):\n",
    "  \"\"\"\n",
    "  Extracts text from a PDF document.\n",
    "\n",
    "  Args:\n",
    "      pdf_path (str): Path to the PDF file.\n",
    "\n",
    "  Returns:\n",
    "      str: Extracted text content.\n",
    "  \"\"\"\n",
    "  with open(pdf_path, 'rb') as pdf_file:\n",
    "    pdf_reader = PyPDF2.PdfReader(pdf_file)\n",
    "    text = ''\n",
    "    for page_num in range(len(pdf_reader.pages)):\n",
    "      page = pdf_reader.pages[page_num]\n",
    "      text += page.extract_text()\n",
    "    return text"
   ]
  },
  {
   "cell_type": "code",
   "execution_count": 22,
   "id": "8b88410f-7345-4787-b3df-bfbf61b3db47",
   "metadata": {},
   "outputs": [],
   "source": [
    "import re\n",
    "\n",
    "def extract_name(text):\n",
    "  \"\"\"\n",
    "  Attempts to extract a name from the provided text using regular expressions.\n",
    "\n",
    "  Args:\n",
    "      text (str): Text content to search for names.\n",
    "\n",
    "  Returns:\n",
    "      str: Extracted name (if found), or an empty string.\n",
    "  \"\"\"\n",
    "  name_patterns = [r\"[A-Z][a-z]+ [A-Z][a-z]+\",  # Two words with capital letters\n",
    "                   r\"[A-Z][a-z]+-\\w+\"]  # Hyphenated names\n",
    "  for pattern in name_patterns:\n",
    "    match = re.search(pattern, text)\n",
    "    if match:\n",
    "      return match.group()\n",
    "  return \"\""
   ]
  },
  {
   "cell_type": "code",
   "execution_count": 23,
   "id": "92698f53-fd17-4c28-8ace-da918f1e63db",
   "metadata": {},
   "outputs": [],
   "source": [
    "import re\n",
    "\n",
    "def extract_contact_details(text):\n",
    "  \"\"\"\n",
    "  Attempts to extract email, phone number, and address using regular expressions.\n",
    "\n",
    "  Args:\n",
    "      text (str): Text content to search for contact information.\n",
    "\n",
    "  Returns:\n",
    "      dict: A dictionary containing extracted email, phone number, and address (if found).\n",
    "  \"\"\"\n",
    "  email_pattern = r\"[a-zA-Z0-9._%+-]+@[a-zA-Z0-9.-]+\\.[a-zA-Z]{2,}\"\n",
    "  phone_pattern = r\"[0-9]{3}-[0-9]{3}-[0-9]{4}\"  # US-style phone number (modify for other formats)\n",
    "  address_pattern = r\"[0-9]+\\s?[a-zA-Z]+(?:\\s[a-zA-Z]+)?\\s+(?:[A-Z][a-z]+\\s?)*,\\s?[A-Z]{2}\\s+\\d{5}(?:-\\d{4})?\"\n",
    "\n",
    "  matches = {}\n",
    "  matches[\"email\"] = re.search(email_pattern, text)\n",
    "  if matches[\"email\"]:\n",
    "    matches[\"email\"] = matches[\"email\"].group()\n",
    "\n",
    "  matches[\"phone_number\"] = re.search(phone_pattern, text)\n",
    "  if matches[\"phone_number\"]:\n",
    "    matches[\"phone_number\"] = matches[\"phone_number\"].group()\n",
    "\n",
    "  matches[\"address\"] = re.search(address_pattern, text)\n",
    "  if matches[\"address\"]:\n",
    "    matches[\"address\"] = matches[\"address\"].group()\n",
    "\n",
    "  return matches"
   ]
  },
  {
   "cell_type": "code",
   "execution_count": 25,
   "id": "21efba4d-29d4-4aa3-83b0-f5ec92efe471",
   "metadata": {},
   "outputs": [],
   "source": [
    "import nltk\n",
    "from nltk import word_tokenize\n",
    "\n",
    "def extract_skills_from_text(text):\n",
    "  \"\"\"\n",
    "  Attempts to extract skills using NLTK and Part-of-Speech tagging.\n",
    "\n",
    "  Args:\n",
    "      text (str): Text content\"\"\""
   ]
  },
  {
   "cell_type": "code",
   "execution_count": null,
   "id": "39363f35-b29b-4f2a-8778-c1a6f92ad25f",
   "metadata": {},
   "outputs": [],
   "source": []
  }
 ],
 "metadata": {
  "kernelspec": {
   "display_name": "Python 3 (ipykernel)",
   "language": "python",
   "name": "python3"
  },
  "language_info": {
   "codemirror_mode": {
    "name": "ipython",
    "version": 3
   },
   "file_extension": ".py",
   "mimetype": "text/x-python",
   "name": "python",
   "nbconvert_exporter": "python",
   "pygments_lexer": "ipython3",
   "version": "3.12.6"
  }
 },
 "nbformat": 4,
 "nbformat_minor": 5
}
