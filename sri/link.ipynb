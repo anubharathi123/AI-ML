{
 "cells": [
  {
   "cell_type": "code",
   "execution_count": 2,
   "metadata": {
    "colab": {
     "base_uri": "https://localhost:8080/"
    },
    "executionInfo": {
     "elapsed": 5053,
     "status": "ok",
     "timestamp": 1729162122997,
     "user": {
      "displayName": "ds225229139 M.Sc. Data Science",
      "userId": "17204601607049161067"
     },
     "user_tz": -330
    },
    "id": "abKFWa2ZF_R0",
    "outputId": "f50ee16a-27e9-4cfd-9405-098c334c4839"
   },
   "outputs": [
    {
     "name": "stdout",
     "output_type": "stream",
     "text": [
      "Collecting PyPDF2\n",
      "  Downloading pypdf2-3.0.1-py3-none-any.whl.metadata (6.8 kB)\n",
      "Downloading pypdf2-3.0.1-py3-none-any.whl (232 kB)\n",
      "\u001b[?25l   \u001b[90m━━━━━━━━━━━━━━━━━━━━━━━━━━━━━━━━━━━━━━━━\u001b[0m \u001b[32m0.0/232.6 kB\u001b[0m \u001b[31m?\u001b[0m eta \u001b[36m-:--:--\u001b[0m\r",
      "\u001b[2K   \u001b[90m━━━━━━━━━━━━━━━━━━━━━━━━━━━━━━━━━━━━━━━━\u001b[0m \u001b[32m232.6/232.6 kB\u001b[0m \u001b[31m13.8 MB/s\u001b[0m eta \u001b[36m0:00:00\u001b[0m\n",
      "\u001b[?25hInstalling collected packages: PyPDF2\n",
      "Successfully installed PyPDF2-3.0.1\n"
     ]
    }
   ],
   "source": [
    "!pip install PyPDF2"
   ]
  },
  {
   "cell_type": "code",
   "execution_count": 8,
   "metadata": {
    "colab": {
     "base_uri": "https://localhost:8080/"
    },
    "executionInfo": {
     "elapsed": 499,
     "status": "ok",
     "timestamp": 1729162401602,
     "user": {
      "displayName": "ds225229139 M.Sc. Data Science",
      "userId": "17204601607049161067"
     },
     "user_tz": -330
    },
    "id": "ksapKsZb-d7f",
    "outputId": "725f3b02-d204-43f5-9043-439c91a498cf"
   },
   "outputs": [
    {
     "name": "stdout",
     "output_type": "stream",
     "text": [
      "Unknown Text - https://www.linkedin.com/\n",
      "Unknown Text - https://www.pinterest.com/resumeviking/\n",
      "Unknown Text - https://www.resumeviking.com/templates/\n",
      "Unknown Text - https://resume.io/?id=cpdokyF1\n"
     ]
    }
   ],
   "source": [
    "import PyPDF2\n",
    "\n",
    "# Open the PDF file (already uploaded by the user)\n",
    "pdf_file_path = '/content/Amsterdam-Modern-Resume-Template.pdf'\n",
    "pdf_file = open(pdf_file_path, 'rb')\n",
    "\n",
    "# Create a PDF reader object\n",
    "pdf_reader = PyPDF2.PdfReader(pdf_file)\n",
    "\n",
    "# Extract hyperlinks along with the associated text\n",
    "links_with_text = []\n",
    "for page_num in range(len(pdf_reader.pages)):\n",
    "    page = pdf_reader.pages[page_num]\n",
    "    if '/Annots' in page:\n",
    "        annotations = page['/Annots']\n",
    "        for annotation in annotations:\n",
    "            annotation_object = annotation.get_object()  # Correct method\n",
    "            if '/A' in annotation_object and '/URI' in annotation_object['/A']:\n",
    "                link = annotation_object['/A']['/URI']\n",
    "                # Try to get the text associated with the link\n",
    "                text = annotation_object.get('/T', '') or annotation_object.get('/Contents', 'Unknown Text')\n",
    "                links_with_text.append(f\"{text} - {link}\")\n",
    "\n",
    "# Close the PDF file\n",
    "pdf_file.close()\n",
    "\n",
    "# Print extracted links along with the associated text\n",
    "for link_with_text in links_with_text:\n",
    "    print(link_with_text)\n"
   ]
  },
  {
   "cell_type": "code",
   "execution_count": 9,
   "metadata": {
    "colab": {
     "base_uri": "https://localhost:8080/",
     "height": 35
    },
    "executionInfo": {
     "elapsed": 440,
     "status": "ok",
     "timestamp": 1729162599707,
     "user": {
      "displayName": "ds225229139 M.Sc. Data Science",
      "userId": "17204601607049161067"
     },
     "user_tz": -330
    },
    "id": "1AG2TksLF1wQ",
    "outputId": "4aa35d34-5ee6-4107-a365-537a4a6e1da9"
   },
   "outputs": [
    {
     "data": {
      "application/vnd.google.colaboratory.intrinsic+json": {
       "type": "string"
      },
      "text/plain": [
       "'https://www.linkedin.com/'"
      ]
     },
     "execution_count": 9,
     "metadata": {},
     "output_type": "execute_result"
    }
   ],
   "source": [
    "pdf_file = open(pdf_file_path, 'rb')\n",
    "\n",
    "# Create a PDF reader object\n",
    "pdf_reader = PyPDF2.PdfReader(pdf_file)\n",
    "\n",
    "# Extract the LinkedIn hyperlink from the PDF\n",
    "linkedin_link = None\n",
    "for page_num in range(len(pdf_reader.pages)):\n",
    "    page = pdf_reader.pages[page_num]\n",
    "    if '/Annots' in page:\n",
    "        annotations = page['/Annots']\n",
    "        for annotation in annotations:\n",
    "            annotation_object = annotation.get_object()\n",
    "            if '/A' in annotation_object and '/URI' in annotation_object['/A']:\n",
    "                uri = annotation_object['/A']['/URI']\n",
    "                if \"linkedin\" in uri:  # Check if the URI contains 'linkedin'\n",
    "                    linkedin_link = uri\n",
    "                    break  # Exit loop after finding the link\n",
    "\n",
    "# Close the PDF file\n",
    "pdf_file.close()\n",
    "\n",
    "# Display the LinkedIn link\n",
    "linkedin_link"
   ]
  },
  {
   "cell_type": "code",
   "execution_count": null,
   "metadata": {
    "id": "cGoiuk45H1hs"
   },
   "outputs": [],
   "source": []
  }
 ],
 "metadata": {
  "accelerator": "GPU",
  "colab": {
   "authorship_tag": "ABX9TyO7nYDsc5jqUD/5FPOojG4z",
   "gpuType": "T4",
   "provenance": []
  },
  "kernelspec": {
   "display_name": "Python 3 (ipykernel)",
   "language": "python",
   "name": "python3"
  },
  "language_info": {
   "codemirror_mode": {
    "name": "ipython",
    "version": 3
   },
   "file_extension": ".py",
   "mimetype": "text/x-python",
   "name": "python",
   "nbconvert_exporter": "python",
   "pygments_lexer": "ipython3",
   "version": "3.12.6"
  }
 },
 "nbformat": 4,
 "nbformat_minor": 4
}
