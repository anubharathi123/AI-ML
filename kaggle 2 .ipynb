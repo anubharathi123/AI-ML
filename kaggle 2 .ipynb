{
 "cells": [
  {
   "cell_type": "code",
   "execution_count": 2,
   "id": "b9506312-cf83-4dd5-9734-bb87ac0cdc3a",
   "metadata": {},
   "outputs": [],
   "source": [
    "import spacy\n",
    "from spacy.tokens import DocBin\n",
    "from tqdm import tqdm  \n",
    "import json"
   ]
  },
  {
   "cell_type": "code",
   "execution_count": 3,
   "id": "7dd86d9d-4095-4247-93d0-fd101db0e959",
   "metadata": {},
   "outputs": [
    {
     "data": {
      "text/plain": [
       "'3.8.2'"
      ]
     },
     "execution_count": 3,
     "metadata": {},
     "output_type": "execute_result"
    }
   ],
   "source": [
    "spacy.__version__"
   ]
  },
  {
   "cell_type": "code",
   "execution_count": null,
   "id": "42cff716-e884-4e66-b1a3-f772c96ec5c1",
   "metadata": {},
   "outputs": [],
   "source": [
    "cv_data = json.load(open('C://Users//santhoshs.s//jupyter//resumes//data//data'))"
   ]
  },
  {
   "cell_type": "code",
   "execution_count": null,
   "id": "0490e2e2-26ba-4ac8-ab31-d14a5fdfc514",
   "metadata": {},
   "outputs": [],
   "source": [
    "len(cv_data)"
   ]
  },
  {
   "cell_type": "code",
   "execution_count": null,
   "id": "2af869eb-a531-4617-a86b-8cc632b38f28",
   "metadata": {},
   "outputs": [],
   "source": [
    "!python -m spacy init fill-config /kaggle/input/resumeparsing/data/training/base_config.cfg config.cfg"
   ]
  },
  {
   "cell_type": "code",
   "execution_count": null,
   "id": "93bf56c1-fe89-4bc9-a386-dba075ab3f04",
   "metadata": {},
   "outputs": [],
   "source": [
    "cv_data[1]"
   ]
  },
  {
   "cell_type": "code",
   "execution_count": null,
   "id": "4eca0315-5659-4c15-b236-b1371eb33aaf",
   "metadata": {},
   "outputs": [],
   "source": [
    "from sklearn.model_selection import train_test_split\n",
    "train, test = train_test_split(cv_data, test_size=0.3)"
   ]
  },
  {
   "cell_type": "code",
   "execution_count": null,
   "id": "c260c36e-cb06-4c35-aea2-c06b4819532d",
   "metadata": {},
   "outputs": [],
   "source": [
    " len(train),len(test)"
   ]
  },
  {
   "cell_type": "code",
   "execution_count": null,
   "id": "8699df0f-a45a-473f-a908-20d88cf64157",
   "metadata": {},
   "outputs": [],
   "source": [
    "file = open('error.txt','w')\n",
    "\n",
    "db = get_spacy_doc(file, train)\n",
    "db.to_disk('train_data.spacy')\n",
    "\n",
    "db = get_spacy_doc(file, test)\n",
    "db.to_disk('test_data.spacy')\n",
    "\n",
    "file.close()"
   ]
  },
  {
   "cell_type": "code",
   "execution_count": null,
   "id": "02dfaed5-af14-41f1-8508-7de44ec11113",
   "metadata": {},
   "outputs": [],
   "source": [
    "len(db.tokens)"
   ]
  },
  {
   "cell_type": "code",
   "execution_count": null,
   "id": "7b52a2fa-2008-4e8d-84ef-4d810df3e565",
   "metadata": {},
   "outputs": [],
   "source": [
    "!python -m spacy train /kaggle/working/config.cfg --output ./output --paths.train ./train_data.spacy --paths.dev ./test_data.spacy --gpu-id 0"
   ]
  },
  {
   "cell_type": "code",
   "execution_count": null,
   "id": "669543c7-2259-4fc9-8bf1-8a6b2647d950",
   "metadata": {},
   "outputs": [],
   "source": [
    "nlp = spacy.load('/kaggle/working/output/model-best')"
   ]
  },
  {
   "cell_type": "code",
   "execution_count": null,
   "id": "d2bec377-9832-43b0-b946-0787a24ae721",
   "metadata": {},
   "outputs": [],
   "source": [
    "txt = 'My name is Kashmira Sankhe. I work as a dentist. I completed my degree in Bachelors of Dental Surgery from Government dental College Mumbai. Skills : Dental Works'"
   ]
  },
  {
   "cell_type": "code",
   "execution_count": null,
   "id": "b157f0a0-0390-4214-92b3-47507900f0d4",
   "metadata": {},
   "outputs": [],
   "source": [
    "doc = nlp(txt)\n",
    "for ent in doc.ents:\n",
    "    print(ent.label_.upper(),\"  =>  \", ent.text)"
   ]
  },
  {
   "cell_type": "code",
   "execution_count": null,
   "id": "ea477905-d503-46d8-ad16-1b7105296427",
   "metadata": {},
   "outputs": [],
   "source": [
    "NLP = spacy.load('/kaggle/working/output/model-last')"
   ]
  },
  {
   "cell_type": "code",
   "execution_count": null,
   "id": "2fc19880-15fd-42df-84ee-82ba254feb75",
   "metadata": {},
   "outputs": [],
   "source": []
  },
  {
   "cell_type": "code",
   "execution_count": null,
   "id": "e8416bf0-c918-4187-88d9-f8b72f480384",
   "metadata": {},
   "outputs": [],
   "source": [
    "TXT = \"Harini Komaravelli Test Analyst at Oracle, Hyderabad  Hyderabad, Telangana - Email me on Indeed: indeed.com/r/Harini- Komaravelli/2659eee82e435d1b  ➢ 6 Yrs. of IT Experience in Manual and Automation testing.  WORK EXPERIENCE  QA Analyst  Oracle  Test Analyst at Oracle, Hyderabad  Infosys Ltd -  Hyderabad, Telangana -  November 2011 to February 2016  Hyderabad from Nov 2011 to Feb17 2016 ➢ Worked in Tata Consultancy Services, Hyderabad from Feb 24 to Apr 11 2017 ➢ Currently working as a Test Analyst at Oracle, Hyderabad  QA Analyst with 6 years of IT experience  Oracle  EDUCATION  MCA  Osmania University  B.Sc. in Computer Science  Osmania University  SKILLS  Functional Testing, Blue Prism, Qtp  ADDITIONAL INFORMATION  Area of Expertise:  ➢ Familiar with Agile Methodologies. ➢ Having knowledge in Energy (Petroleum) & Health Care domains. ➢ Involved in preparation of Test Scenarios. ➢ Preparing Test Data for the test cases.  https://www.indeed.com/r/Harini-Komaravelli/2659eee82e435d1b?isid=rex-download&ikw=download-top&co=IN https://www.indeed.com/r/Harini-Komaravelli/2659eee82e435d1b?isid=rex-download&ikw=download-top&co=IN   ➢ Experienced in development and execution of Test cases effectively. ➢ Experienced in Functional testing, GUI testing, Smoke testing, Regression testing and Integration Testing ➢ Experienced in doing Accessibility testing of an application ➢ Ability to understand user Requirements, Functional and Design specifications. ➢ Good knowledge of SDLC and STLC processes. ➢ Deciding the Severity and Priority of bugs. ➢ Experience in using Microsoft Test Manager & Oracle Test Manager as Test Management Tools. ➢ Having good experience in testing windows based & web based applications. ➢ Involved in Client Interactions for reviews, issues and for any clarifications. ➢ Web Services Testing ➢ Writing Test Scripts in QTP, Testcomplete. ➢ Creating Object Repositories and Function Libraries in QTP. ➢ Enhanced QTP scripts using VB Script. ➢ Strong experience in working with Blue Prism tool ➢ Worked on different Environments like Windows Application & Web Application  Technical Skills:  ❑ Test Automation Tools: Blue Prism, QTP 10.0, Testcomplete ❑ Test Management Tool: Microsoft Test Manager, Oracle Test Manager & JIRA ❑ Databases: Oracle 10g, SQL Server.  ❑ Operating Systems: Windows 7  Project 1: Title: Cadence Client: Baker Hughes  Technologies: Microsoft Visual Studio and Microsoft Team Foundation Server  Client Background: An oilfield services company delivering focused efforts on shale gas and other oilfield services. It provides services, tools and software for drilling and formation evaluation, well completion, production management, seismic data collection and interpretation.  Project Description: AUT (Application under test) is the next generation revolutionary, robust, easy to use scalable well site data acquisition processing and interpretation system for Client's Drilling Services to deliver services that meets cross divisional business requirements consistently.  Project 2:  Description: Paragon supports your entire care team with one tool that your clinicians need to help deliver the best patient care. Designed by physicians, nurses, pharmacists and mid level providers that have a first-hand understanding of clinical workflow needs, Paragon clinical applications allow your caregivers to focus on what matters most; spending time caring for patients. Since Paragon is fully-integrated across all applications and built around a single patient database, information    entered anywhere in the system is immediately available to the entire care team. Immediate access not only helps clinicians make better treatment decisions - it also helps promote patient safety. Paragon offers a broad suite of multidisciplinary clinical software solutions together with anytime, anywhere access to the complete patient record.  Responsibilities:  • Performed Smoke testing and Regression testing. • Involved in Generating and Executing Test Script using Quick Test Pro & Blue Prism • Usability and User Interface Testing. • Involved in Defect tracking and reporting the bugs using TFS • Participated in frequent walk-through meetings with Internal Quality Assurance groups and with development groups. • Participated in client calls and clarifying the doubts by having AT&T sessions • Involved in functional, regression and smoke testing to validate the application data changes done in windows application • Certifying the build status by running the scripts as part of smoke testing  Project 3:  Description: Food & Beverages R&A: Easily manage business across multiple locations while reducing IT cost and complexity. Cloud-based point-of-sale (POS) solutions enable centralized enterprise management with lower upfront costs and a smaller footprint.  Responsibilities:  • Performed Functional testing and Regression testing. • Involved in Generating and Executing Test Scripts using Blue Prism tool and Open script • Involved in preparing bots using Blue Prism tool. • Accessibility testing of the web application • Involved in Defect tracking and reporting the bugs using JIRA • WebServices testing by calling API's to export the data\""
   ]
  },
  {
   "cell_type": "code",
   "execution_count": null,
   "id": "a7c525e3-a0d4-40b4-ac81-acb6acb7e0dd",
   "metadata": {},
   "outputs": [],
   "source": [
    "doc = NLP(TXT)\n",
    "for ent in doc.ents:\n",
    "    print(ent.label_.upper(),\"  =>  \", ent.text)"
   ]
  },
  {
   "cell_type": "code",
   "execution_count": null,
   "id": "b37705be-4f84-4352-9505-80e42b28c496",
   "metadata": {},
   "outputs": [],
   "source": [
    "!pip install pyMuPDF"
   ]
  },
  {
   "cell_type": "code",
   "execution_count": null,
   "id": "fc12a4dd-a2bd-4461-aba5-52c9aea8acf6",
   "metadata": {},
   "outputs": [],
   "source": [
    "import sys, fitz"
   ]
  },
  {
   "cell_type": "code",
   "execution_count": null,
   "id": "34123245-8636-4cb7-8fe1-5611c8dc7c15",
   "metadata": {},
   "outputs": [],
   "source": [
    "fname = '/kaggle/input/resumeparsing/data/test/Smith Resume.pdf'\n",
    "doc = fitz.open(fname)"
   ]
  },
  {
   "cell_type": "code",
   "execution_count": null,
   "id": "b7fb74de-c6b7-437d-a76b-c7b0ad37ad58",
   "metadata": {},
   "outputs": [],
   "source": [
    "text = \" \"\n",
    "for page in doc:\n",
    "    text = text + str(page.get_text())"
   ]
  },
  {
   "cell_type": "code",
   "execution_count": null,
   "id": "0362789a-5e47-4a2b-b262-8671bbd8878a",
   "metadata": {},
   "outputs": [],
   "source": [
    "text = text.strip()"
   ]
  },
  {
   "cell_type": "code",
   "execution_count": null,
   "id": "85a693a6-238e-4a66-a07d-9bf6137a24dd",
   "metadata": {},
   "outputs": [],
   "source": [
    "text = ' '.join(text.split())"
   ]
  },
  {
   "cell_type": "code",
   "execution_count": null,
   "id": "091f540d-57ca-452c-9e01-b5b60da7ff01",
   "metadata": {},
   "outputs": [],
   "source": [
    "text"
   ]
  },
  {
   "cell_type": "code",
   "execution_count": null,
   "id": "2a3ae367-6086-401d-aac2-609907769829",
   "metadata": {},
   "outputs": [],
   "source": [
    "doc = NLP(text)\n",
    "for ent in doc.ents:\n",
    "    print(ent.label_.upper(),\"  =>  \", ent.text)"
   ]
  }
 ],
 "metadata": {
  "kernelspec": {
   "display_name": "Python 3 (ipykernel)",
   "language": "python",
   "name": "python3"
  },
  "language_info": {
   "codemirror_mode": {
    "name": "ipython",
    "version": 3
   },
   "file_extension": ".py",
   "mimetype": "text/x-python",
   "name": "python",
   "nbconvert_exporter": "python",
   "pygments_lexer": "ipython3",
   "version": "3.12.6"
  }
 },
 "nbformat": 4,
 "nbformat_minor": 5
}
