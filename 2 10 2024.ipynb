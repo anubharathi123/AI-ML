{
 "cells": [
  {
   "cell_type": "code",
   "execution_count": 9,
   "id": "4306767b-95d5-4883-99f8-48c252b686c3",
   "metadata": {},
   "outputs": [],
   "source": [
    "import os\n",
    "import pdfplumber\n",
    "import pandas as pd\n",
    "import nltk\n",
    "from nltk.corpus import stopwords"
   ]
  },
  {
   "cell_type": "code",
   "execution_count": 2,
   "id": "fe2c3292-e767-4fd2-b7a5-03e181c01506",
   "metadata": {},
   "outputs": [
    {
     "name": "stderr",
     "output_type": "stream",
     "text": [
      "[nltk_data] Downloading package stopwords to\n",
      "[nltk_data]     C:\\Users\\santhoshs.s\\AppData\\Roaming\\nltk_data...\n",
      "[nltk_data]   Package stopwords is already up-to-date!\n",
      "[nltk_data] Downloading package punkt to\n",
      "[nltk_data]     C:\\Users\\santhoshs.s\\AppData\\Roaming\\nltk_data...\n",
      "[nltk_data]   Package punkt is already up-to-date!\n"
     ]
    },
    {
     "data": {
      "text/plain": [
       "True"
      ]
     },
     "execution_count": 2,
     "metadata": {},
     "output_type": "execute_result"
    }
   ],
   "source": [
    "# Download NLTK resources\n",
    "nltk.download('stopwords')\n",
    "nltk.download('punkt')"
   ]
  },
  {
   "cell_type": "code",
   "execution_count": 3,
   "id": "b08ed9f4-ebe7-4562-8323-34558b4c374f",
   "metadata": {},
   "outputs": [],
   "source": [
    "# Function to extract text from a PDF file\n",
    "def extract_text_from_pdf(pdf_file_path):\n",
    "    all_text = \"\"\n",
    "    try:\n",
    "        with pdfplumber.open(pdf_file_path) as pdf:\n",
    "            for page in pdf.pages:\n",
    "                text = page.extract_text()\n",
    "                if text:  # Ensure there's text extracted\n",
    "                    all_text += text + \"\\n\"\n",
    "    except Exception as e:\n",
    "        print(f\"Error reading {pdf_file_path}: {e}\")\n",
    "    return all_text"
   ]
  },
  {
   "cell_type": "code",
   "execution_count": 4,
   "id": "1b29cf15-a3c7-49a4-9268-03bdbcfcad6c",
   "metadata": {},
   "outputs": [],
   "source": [
    "# Function to process resumes from a given folder\n",
    "def process_resumes(folder_path, job_title):\n",
    "    resumes_data = []  # List to store resume data\n",
    "\n",
    "    # Traverse the folder to find all PDF files\n",
    "    for filename in os.listdir(folder_path):\n",
    "        if filename.endswith('.pdf'):\n",
    "            pdf_file_path = os.path.join(folder_path, filename)\n",
    "            resume_text = extract_text_from_pdf(pdf_file_path)\n",
    "            resumes_data.append({\n",
    "                'job_title': job_title,\n",
    "                'resume_text': resume_text,\n",
    "                'filename': filename\n",
    "            })\n",
    "\n",
    "    return resumes_data"
   ]
  },
  {
   "cell_type": "code",
   "execution_count": 5,
   "id": "bcfd6690-cc25-4c6a-a4ec-4d8922ff6b2d",
   "metadata": {},
   "outputs": [],
   "source": [
    "# Main function to process multiple job folders\n",
    "def process_resumes_from_folders(root_folder):\n",
    "    all_resumes = []\n",
    "# Loop through each job category folder\n",
    "    for job_title in os.listdir(root_folder):\n",
    "        job_folder_path = os.path.join(root_folder, job_title)\n",
    "        if os.path.isdir(job_folder_path):  # Check if it's a directory\n",
    "            resumes_data = process_resumes(job_folder_path, job_title)\n",
    "            all_resumes.extend(resumes_data)  # Add to the main list\n",
    "\n",
    "    # Convert to DataFrame and save to CSV\n",
    "    resumes_df = pd.DataFrame(all_resumes)\n",
    "    resumes_df.to_csv('resumes_data.csv', index=False)\n",
    "    print(\"Resumes extracted and saved to resumes_data.csv\")"
   ]
  },
  {
   "cell_type": "code",
   "execution_count": 6,
   "id": "4a8209b5-eed0-4428-a15b-e6212deecbcb",
   "metadata": {},
   "outputs": [],
   "source": [
    "# Function to extract skills from job descriptions\n",
    "def extract_skills(job_descriptions):\n",
    "    text = ' '.join(job_descriptions)\n",
    "    tokens = nltk.word_tokenize(text)\n",
    "    stop_words = set(stopwords.words('english'))\n",
    "    filtered_tokens = [word for word in tokens if word.isalpha() and word.lower() not in stop_words]\n",
    "    return filtered_tokens"
   ]
  },
  {
   "cell_type": "code",
   "execution_count": 7,
   "id": "9a211988-b69a-445f-8a5c-1070a3fd4342",
   "metadata": {},
   "outputs": [],
   "source": [
    "# Function to process job description CSV\n",
    "def process_job_descriptions(csv_file_path):\n",
    "    job_desc_df = pd.read_csv(csv_file_path)  # Load the CSV file\n",
    "    skills_list = extract_skills(job_desc_df['job_description'])\n",
    "    \n",
    "    # Create a DataFrame for frequency analysis\n",
    "    skills_df = pd.DataFrame(skills_list, columns=['skill'])\n",
    "    skills_df['count'] = 1\n",
    "    skills_count = skills_df.groupby('skill').count().reset_index()\n",
    "    skills_count = skills_count.sort_values(by='count', ascending=False)\n",
    "    \n",
    "    # Display top 10 skills\n",
    "    print(\"Top 10 Skills from Job Descriptions:\")\n",
    "    print(skills_count.head(10))\n",
    "    \n",
    "    # Create job skills mapping\n",
    "    job_skills_mapping = {}\n",
    "    for _, row in job_desc_df.iterrows():\n",
    "        job_title = row['job_title']\n",
    "        job_description = row['job_description']\n",
    "        skills = [skill for skill in skills_count['skill'].values if skill.lower() in job_description.lower()]\n",
    "        job_skills_mapping[job_title] = skills\n",
    "\n",
    "    # Convert the mapping into a DataFrame\n",
    "    job_skills_df = pd.DataFrame(list(job_skills_mapping.items()), columns=['job_title', 'skills'])\n",
    "    print(\"\\nJob Skills Mapping:\")\n",
    "    print(job_skills_df.head())\n",
    "    \n",
    "    return job_skills_df"
   ]
  },
  {
   "cell_type": "code",
   "execution_count": 8,
   "id": "b11a0805-f521-410e-85e3-0dc9efacdcbb",
   "metadata": {},
   "outputs": [
    {
     "name": "stdout",
     "output_type": "stream",
     "text": [
      "Resumes extracted and saved to resumes_data.csv\n"
     ]
    },
    {
     "ename": "KeyError",
     "evalue": "'job_description'",
     "output_type": "error",
     "traceback": [
      "\u001b[1;31m---------------------------------------------------------------------------\u001b[0m",
      "\u001b[1;31mKeyError\u001b[0m                                  Traceback (most recent call last)",
      "File \u001b[1;32m~\\AppData\\Local\\Programs\\Python\\Python312\\Lib\\site-packages\\pandas\\core\\indexes\\base.py:3805\u001b[0m, in \u001b[0;36mIndex.get_loc\u001b[1;34m(self, key)\u001b[0m\n\u001b[0;32m   3804\u001b[0m \u001b[38;5;28;01mtry\u001b[39;00m:\n\u001b[1;32m-> 3805\u001b[0m     \u001b[38;5;28;01mreturn\u001b[39;00m \u001b[38;5;28;43mself\u001b[39;49m\u001b[38;5;241;43m.\u001b[39;49m\u001b[43m_engine\u001b[49m\u001b[38;5;241;43m.\u001b[39;49m\u001b[43mget_loc\u001b[49m\u001b[43m(\u001b[49m\u001b[43mcasted_key\u001b[49m\u001b[43m)\u001b[49m\n\u001b[0;32m   3806\u001b[0m \u001b[38;5;28;01mexcept\u001b[39;00m \u001b[38;5;167;01mKeyError\u001b[39;00m \u001b[38;5;28;01mas\u001b[39;00m err:\n",
      "File \u001b[1;32mindex.pyx:167\u001b[0m, in \u001b[0;36mpandas._libs.index.IndexEngine.get_loc\u001b[1;34m()\u001b[0m\n",
      "File \u001b[1;32mindex.pyx:196\u001b[0m, in \u001b[0;36mpandas._libs.index.IndexEngine.get_loc\u001b[1;34m()\u001b[0m\n",
      "File \u001b[1;32mpandas\\\\_libs\\\\hashtable_class_helper.pxi:7081\u001b[0m, in \u001b[0;36mpandas._libs.hashtable.PyObjectHashTable.get_item\u001b[1;34m()\u001b[0m\n",
      "File \u001b[1;32mpandas\\\\_libs\\\\hashtable_class_helper.pxi:7089\u001b[0m, in \u001b[0;36mpandas._libs.hashtable.PyObjectHashTable.get_item\u001b[1;34m()\u001b[0m\n",
      "\u001b[1;31mKeyError\u001b[0m: 'job_description'",
      "\nThe above exception was the direct cause of the following exception:\n",
      "\u001b[1;31mKeyError\u001b[0m                                  Traceback (most recent call last)",
      "Cell \u001b[1;32mIn[8], line 11\u001b[0m\n\u001b[0;32m      8\u001b[0m     job_skills_df \u001b[38;5;241m=\u001b[39m process_job_descriptions(csv_file_path)\n\u001b[0;32m     10\u001b[0m \u001b[38;5;28;01mif\u001b[39;00m \u001b[38;5;18m__name__\u001b[39m \u001b[38;5;241m==\u001b[39m \u001b[38;5;124m\"\u001b[39m\u001b[38;5;124m__main__\u001b[39m\u001b[38;5;124m\"\u001b[39m:\n\u001b[1;32m---> 11\u001b[0m     \u001b[43mmain\u001b[49m\u001b[43m(\u001b[49m\u001b[43m)\u001b[49m\n",
      "Cell \u001b[1;32mIn[8], line 8\u001b[0m, in \u001b[0;36mmain\u001b[1;34m()\u001b[0m\n\u001b[0;32m      6\u001b[0m \u001b[38;5;66;03m# Process job descriptions\u001b[39;00m\n\u001b[0;32m      7\u001b[0m csv_file_path \u001b[38;5;241m=\u001b[39m \u001b[38;5;124m'\u001b[39m\u001b[38;5;124mC://Users//santhoshs.s//jupyter//combined_job_descriptions.csv\u001b[39m\u001b[38;5;124m'\u001b[39m  \u001b[38;5;66;03m# Replace with the path to your job descriptions CSV\u001b[39;00m\n\u001b[1;32m----> 8\u001b[0m job_skills_df \u001b[38;5;241m=\u001b[39m \u001b[43mprocess_job_descriptions\u001b[49m\u001b[43m(\u001b[49m\u001b[43mcsv_file_path\u001b[49m\u001b[43m)\u001b[49m\n",
      "Cell \u001b[1;32mIn[7], line 4\u001b[0m, in \u001b[0;36mprocess_job_descriptions\u001b[1;34m(csv_file_path)\u001b[0m\n\u001b[0;32m      2\u001b[0m \u001b[38;5;28;01mdef\u001b[39;00m \u001b[38;5;21mprocess_job_descriptions\u001b[39m(csv_file_path):\n\u001b[0;32m      3\u001b[0m     job_desc_df \u001b[38;5;241m=\u001b[39m pd\u001b[38;5;241m.\u001b[39mread_csv(csv_file_path)  \u001b[38;5;66;03m# Load the CSV file\u001b[39;00m\n\u001b[1;32m----> 4\u001b[0m     skills_list \u001b[38;5;241m=\u001b[39m extract_skills(\u001b[43mjob_desc_df\u001b[49m\u001b[43m[\u001b[49m\u001b[38;5;124;43m'\u001b[39;49m\u001b[38;5;124;43mjob_description\u001b[39;49m\u001b[38;5;124;43m'\u001b[39;49m\u001b[43m]\u001b[49m)\n\u001b[0;32m      6\u001b[0m     \u001b[38;5;66;03m# Create a DataFrame for frequency analysis\u001b[39;00m\n\u001b[0;32m      7\u001b[0m     skills_df \u001b[38;5;241m=\u001b[39m pd\u001b[38;5;241m.\u001b[39mDataFrame(skills_list, columns\u001b[38;5;241m=\u001b[39m[\u001b[38;5;124m'\u001b[39m\u001b[38;5;124mskill\u001b[39m\u001b[38;5;124m'\u001b[39m])\n",
      "File \u001b[1;32m~\\AppData\\Local\\Programs\\Python\\Python312\\Lib\\site-packages\\pandas\\core\\frame.py:4102\u001b[0m, in \u001b[0;36mDataFrame.__getitem__\u001b[1;34m(self, key)\u001b[0m\n\u001b[0;32m   4100\u001b[0m \u001b[38;5;28;01mif\u001b[39;00m \u001b[38;5;28mself\u001b[39m\u001b[38;5;241m.\u001b[39mcolumns\u001b[38;5;241m.\u001b[39mnlevels \u001b[38;5;241m>\u001b[39m \u001b[38;5;241m1\u001b[39m:\n\u001b[0;32m   4101\u001b[0m     \u001b[38;5;28;01mreturn\u001b[39;00m \u001b[38;5;28mself\u001b[39m\u001b[38;5;241m.\u001b[39m_getitem_multilevel(key)\n\u001b[1;32m-> 4102\u001b[0m indexer \u001b[38;5;241m=\u001b[39m \u001b[38;5;28;43mself\u001b[39;49m\u001b[38;5;241;43m.\u001b[39;49m\u001b[43mcolumns\u001b[49m\u001b[38;5;241;43m.\u001b[39;49m\u001b[43mget_loc\u001b[49m\u001b[43m(\u001b[49m\u001b[43mkey\u001b[49m\u001b[43m)\u001b[49m\n\u001b[0;32m   4103\u001b[0m \u001b[38;5;28;01mif\u001b[39;00m is_integer(indexer):\n\u001b[0;32m   4104\u001b[0m     indexer \u001b[38;5;241m=\u001b[39m [indexer]\n",
      "File \u001b[1;32m~\\AppData\\Local\\Programs\\Python\\Python312\\Lib\\site-packages\\pandas\\core\\indexes\\base.py:3812\u001b[0m, in \u001b[0;36mIndex.get_loc\u001b[1;34m(self, key)\u001b[0m\n\u001b[0;32m   3807\u001b[0m     \u001b[38;5;28;01mif\u001b[39;00m \u001b[38;5;28misinstance\u001b[39m(casted_key, \u001b[38;5;28mslice\u001b[39m) \u001b[38;5;129;01mor\u001b[39;00m (\n\u001b[0;32m   3808\u001b[0m         \u001b[38;5;28misinstance\u001b[39m(casted_key, abc\u001b[38;5;241m.\u001b[39mIterable)\n\u001b[0;32m   3809\u001b[0m         \u001b[38;5;129;01mand\u001b[39;00m \u001b[38;5;28many\u001b[39m(\u001b[38;5;28misinstance\u001b[39m(x, \u001b[38;5;28mslice\u001b[39m) \u001b[38;5;28;01mfor\u001b[39;00m x \u001b[38;5;129;01min\u001b[39;00m casted_key)\n\u001b[0;32m   3810\u001b[0m     ):\n\u001b[0;32m   3811\u001b[0m         \u001b[38;5;28;01mraise\u001b[39;00m InvalidIndexError(key)\n\u001b[1;32m-> 3812\u001b[0m     \u001b[38;5;28;01mraise\u001b[39;00m \u001b[38;5;167;01mKeyError\u001b[39;00m(key) \u001b[38;5;28;01mfrom\u001b[39;00m \u001b[38;5;21;01merr\u001b[39;00m\n\u001b[0;32m   3813\u001b[0m \u001b[38;5;28;01mexcept\u001b[39;00m \u001b[38;5;167;01mTypeError\u001b[39;00m:\n\u001b[0;32m   3814\u001b[0m     \u001b[38;5;66;03m# If we have a listlike key, _check_indexing_error will raise\u001b[39;00m\n\u001b[0;32m   3815\u001b[0m     \u001b[38;5;66;03m#  InvalidIndexError. Otherwise we fall through and re-raise\u001b[39;00m\n\u001b[0;32m   3816\u001b[0m     \u001b[38;5;66;03m#  the TypeError.\u001b[39;00m\n\u001b[0;32m   3817\u001b[0m     \u001b[38;5;28mself\u001b[39m\u001b[38;5;241m.\u001b[39m_check_indexing_error(key)\n",
      "\u001b[1;31mKeyError\u001b[0m: 'job_description'"
     ]
    }
   ],
   "source": [
    "def main():\n",
    "    # Process resumes\n",
    "    root_folder = 'C://Users//santhoshs.s//jupyter//resumes//data//data'  # Replace with the path to your folders\n",
    "    process_resumes_from_folders(root_folder)\n",
    "\n",
    "    # Process job descriptions\n",
    "    csv_file_path = 'C://Users//santhoshs.s//jupyter//combined_job_descriptions.csv'  # Replace with the path to your job descriptions CSV\n",
    "    job_skills_df = process_job_descriptions(csv_file_path)\n",
    "\n",
    "if __name__ == \"__main__\":\n",
    "    main()"
   ]
  },
  {
   "cell_type": "code",
   "execution_count": null,
   "id": "1386d2ba-ee39-47e8-8b60-9c6d908a67fd",
   "metadata": {},
   "outputs": [],
   "source": []
  }
 ],
 "metadata": {
  "kernelspec": {
   "display_name": "Python 3 (ipykernel)",
   "language": "python",
   "name": "python3"
  },
  "language_info": {
   "codemirror_mode": {
    "name": "ipython",
    "version": 3
   },
   "file_extension": ".py",
   "mimetype": "text/x-python",
   "name": "python",
   "nbconvert_exporter": "python",
   "pygments_lexer": "ipython3",
   "version": "3.12.6"
  }
 },
 "nbformat": 4,
 "nbformat_minor": 5
}
